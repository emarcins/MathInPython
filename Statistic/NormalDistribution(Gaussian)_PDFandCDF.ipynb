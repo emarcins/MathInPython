{
 "cells": [
  {
   "cell_type": "code",
   "execution_count": 3,
   "id": "2d1d4b71-6cb7-401d-bc6b-4db656a69188",
   "metadata": {},
   "outputs": [
    {
     "name": "stdout",
     "output_type": "stream",
     "text": [
      "0.13607015658150165\n",
      "0.13607015882304302\n",
      "0.13607015882304296\n"
     ]
    }
   ],
   "source": [
    "#Normal distribution (Gaussian distribution) in Python using probability density function\n",
    "\n",
    "import math \n",
    "\n",
    "#Probability density function(pdf)\n",
    "def normal_pdf(x:float, mean: float, deviation: float) -> float:\n",
    "    return (1.0 / (2.0 * math.pi * deviation ** 2) ** 0.5) * \\\n",
    "        math.exp(-1.0 * ((x - mean) ** 2 / (2.0 * deviation ** 2)))\n",
    "\n",
    "def integral(a, b, n, f):\n",
    "    delta_x = (b - a) / n\n",
    "    summing = 0\n",
    "    \n",
    "    for i in range(1, n + 1):\n",
    "        middle_point = 0.5 * (2 * a + delta_x * (2 * i - 1))\n",
    "        summing += f(middle_point)\n",
    "        \n",
    "    return summing * delta_x\n",
    "\n",
    "probab_between_27_and_28_pdf = integral(a=27, b=28, n=1000, f= lambda x: normal_pdf(x, 29.15, 1.25))\n",
    "\n",
    "print(probab_between_27_and_28_pdf) #0.13607015658150165 = 13,61%\n",
    "\n",
    "\n",
    "# Using normal distribution and probability density function, \n",
    "# the probability between 27 i 28 using Riemann's integral(n=1000)\n",
    "# with arithmetic mean 29.15 and standard deviation 1.25 is equal to 13,61%.\n",
    "\n",
    "\n",
    "#Normal distribution (Gaussian distribution) in Python using cumulative density function\n",
    "def normal_cdf(x: float, mean: float, variance: float) -> float:\n",
    "    return (1 + math.erf((x - mean) / math.sqrt(2) / variance)) / 2\n",
    "\n",
    "arithm_mean = 29.15\n",
    "deviation = 1.25\n",
    "\n",
    "probab_between_27_and_28_cdf = normal_cdf(28, arithm_mean, deviation) - normal_cdf(27, arithm_mean, deviation)\n",
    "\n",
    "print(probab_between_27_and_28_cdf) #0.13607015882304302 = 13,61%\n",
    "\n",
    "\n",
    "# Using normal distribution and cumulative density function, \n",
    "# the probability between 27 i 28 using 'error function' for different numbers (math.erf())\n",
    "# with arithmetic mean 29.15 and standard deviation 1.25 is equal to 13,61%.\n",
    "\n",
    "\n",
    "#Normal distribution (Gaussian distribution) using SciPy module and cumulative density function\n",
    "from scipy.stats import norm \n",
    "\n",
    "arithm_mean_2 = 29.15\n",
    "deviation_2 = 1.25\n",
    "\n",
    "probab_between_27_and_28_cdf_2 = norm.cdf(28, arithm_mean_2, deviation_2) - norm.cdf(27, arithm_mean_2, deviation_2)\n",
    "\n",
    "print(probab_between_27_and_28_cdf_2) #0.13607015882304296 = 13,61%\n",
    "\n",
    "\n",
    "# Using normal distribution and SciPy.stats module, the probability between 27 i 28 using\n",
    "# cumulative density function (in SciPy module) with arithmetic mean 29.15 and \n",
    "# standard deviation 1.25 is equal to 13,61% as well.\n"
   ]
  }
 ],
 "metadata": {
  "kernelspec": {
   "display_name": "Python 3 (ipykernel)",
   "language": "python",
   "name": "python3"
  },
  "language_info": {
   "codemirror_mode": {
    "name": "ipython",
    "version": 3
   },
   "file_extension": ".py",
   "mimetype": "text/x-python",
   "name": "python",
   "nbconvert_exporter": "python",
   "pygments_lexer": "ipython3",
   "version": "3.12.4"
  }
 },
 "nbformat": 4,
 "nbformat_minor": 5
}
