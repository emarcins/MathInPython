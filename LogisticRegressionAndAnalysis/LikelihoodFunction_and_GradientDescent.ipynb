{
 "cells": [
  {
   "cell_type": "code",
   "execution_count": 2,
   "id": "f4e51463-d944-45ad-9add-8472df6316b1",
   "metadata": {},
   "outputs": [
    {
     "name": "stdout",
     "output_type": "stream",
     "text": [
      "b1: 0.6926693075369909\n",
      "b0: -3.175751550409318\n"
     ]
    }
   ],
   "source": [
    "# Determination of b0 and b1 coefficients by likelihood function and gradient descent methods for logistic regression in Sympy.\n",
    "# I count these coefficients in diffrent file (with the same data) and the reuslt should be aprox. to b1 = 0.69267212 and b0 = -3.17576395.\n",
    "\n",
    "from sympy import *\n",
    "import pandas as pd\n",
    "\n",
    "# Import data\n",
    "data = list(pd.read_csv(\"https://tinyurl.com/y2cocoo7\").itertuples())\n",
    "\n",
    "b0, b1 = symbols('b0 b1')\n",
    "sigmoid = lambda z: 1/(1+exp(-z))\n",
    "\n",
    "# Log‑likelihood - logistic regression using Maximum Likelihood Estimation(MLE) in Python \n",
    "S =  sum(row.y * log(sigmoid(b0 + b1*row.x)) + (1-row.y) * log(1 - sigmoid(b0 + b1*row.x)) for row in data)\n",
    "\n",
    "# Derivative for b1 with substituted data\n",
    "d_b1 = diff(S, b1)\n",
    "\n",
    "# Derivative for b0 with substituted data\n",
    "d_b0 = diff(S, b0)\n",
    "\n",
    "# Compile using lambdify to speed up calculations\n",
    "f_b1 = lambdify((b1,b0), d_b1, 'numpy')\n",
    "f_b0 = lambdify((b1,b0), d_b0, 'numpy')\n",
    "\n",
    "# Gradient descent\n",
    "coff_b1 = 0.01\n",
    "coff_b0 = 0.01\n",
    "L = .001 # pace of learning\n",
    "epochs = 100000\n",
    "\n",
    "# I add to b1 and b0 because I want to get the maximum estimated result (for the Least squares method in linear regression I subtracted)\n",
    "for j in range(epochs): \n",
    "    coff_b1 += f_b1(coff_b1,coff_b0) * L\n",
    "    coff_b0 += f_b0(coff_b1,coff_b0) * L\n",
    "\n",
    "print(\"b1: {0}\\nb0: {1}\".format(coff_b1, coff_b0))"
   ]
  }
 ],
 "metadata": {
  "kernelspec": {
   "display_name": "Python 3 (ipykernel)",
   "language": "python",
   "name": "python3"
  },
  "language_info": {
   "codemirror_mode": {
    "name": "ipython",
    "version": 3
   },
   "file_extension": ".py",
   "mimetype": "text/x-python",
   "name": "python",
   "nbconvert_exporter": "python",
   "pygments_lexer": "ipython3",
   "version": "3.12.4"
  }
 },
 "nbformat": 4,
 "nbformat_minor": 5
}
