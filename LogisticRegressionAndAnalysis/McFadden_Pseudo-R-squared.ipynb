{
 "cells": [
  {
   "cell_type": "code",
   "execution_count": 2,
   "id": "edf60110-533f-4b8d-8051-8fdc6e6a8758",
   "metadata": {},
   "outputs": [
    {
     "name": "stdout",
     "output_type": "stream",
     "text": [
      "Coefficients:\n",
      "beta1: 0.6926893863085579\n",
      "beta0: -3.175805042563376\n",
      "McFadden Pseudo-R-squared: 0.3064561053776835\n"
     ]
    }
   ],
   "source": [
    "# McFadden Pseudo-R-squared for Logistic Regression (sometimes called likelihood ratio index)\n",
    "\n",
    "import pandas as pd\n",
    "from math import log, exp\n",
    "from sklearn.linear_model import LogisticRegression\n",
    "\n",
    "dataFrame = pd.read_csv(\"https://bit.ly/33ebs2R\", delimiter=\",\")\n",
    "\n",
    "# Logistic regression\n",
    "X = dataFrame.values[:, :-1]\n",
    "Y = dataFrame.values[:, -1]\n",
    "\n",
    "model = LogisticRegression(penalty=None)\n",
    "model.fit(X,Y)\n",
    "\n",
    "# Coefficients beta1(b1) and beta0(b0)\n",
    "b1 = model.coef_[0][0]  # beta1\n",
    "b0 = model.intercept_[0]  # beta0\n",
    "\n",
    "print(\"Coefficients:\")\n",
    "print(\"beta1:\", b1)\n",
    "print(\"beta0:\", b0)\n",
    "\n",
    "# Calculating the r squared coefficient for Logistic Regression\n",
    "points = list(pd.read_csv(\"https://bit.ly/33ebs2R\", delimiter=\",\").itertuples(index=False))\n",
    "\n",
    "# Logistic function formula\n",
    "def logistic_func(x):\n",
    "    p = 1.0 / (1.0 + exp(-(b0 + b1 * x)))\n",
    "    return p\n",
    "\n",
    "# Calculating logarithm of fit likelihood\n",
    "log_fit_likelihood = sum(log(logistic_func(p.x)) * p.y + log(1.0 - logistic_func(p.x)) * (1.0 - p.y) for p in points)\n",
    "\n",
    "# Calculating log likelihood without adjustment\n",
    "likelihood = sum(p.y for p in points) / len(points)\n",
    "\n",
    "log_likelihood = sum(log(likelihood) * p.y + log(1.0 - likelihood) * (1.0 - p.y) for p in points)\n",
    "\n",
    "# Calculatin R-squared \n",
    "r2 = (log_likelihood - log_fit_likelihood) / log_likelihood\n",
    "print(f\"McFadden Pseudo-R-squared: {r2}\")"
   ]
  },
  {
   "cell_type": "code",
   "execution_count": 4,
   "id": "b372fcbe-1b0f-4b87-901d-128b216af48c",
   "metadata": {},
   "outputs": [],
   "source": [
    "# A score of R-squared 0.30645 means that the x variables weakly explain the y variables. \n",
    "# An R2 coefficient score closer to 0.0 indicates a weak relationship between the variables under study, \n",
    "# a score closer to 1.0 - a good relationship."
   ]
  }
 ],
 "metadata": {
  "kernelspec": {
   "display_name": "Python 3 (ipykernel)",
   "language": "python",
   "name": "python3"
  },
  "language_info": {
   "codemirror_mode": {
    "name": "ipython",
    "version": 3
   },
   "file_extension": ".py",
   "mimetype": "text/x-python",
   "name": "python",
   "nbconvert_exporter": "python",
   "pygments_lexer": "ipython3",
   "version": "3.12.4"
  }
 },
 "nbformat": 4,
 "nbformat_minor": 5
}
