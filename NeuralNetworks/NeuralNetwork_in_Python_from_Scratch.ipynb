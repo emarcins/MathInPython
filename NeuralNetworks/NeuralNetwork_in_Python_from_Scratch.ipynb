{
 "cells": [
  {
   "cell_type": "code",
   "execution_count": 1,
   "id": "28a045f0-27cb-4827-9547-5665f01a9a10",
   "metadata": {},
   "outputs": [],
   "source": [
    "import numpy as np\n",
    "import pandas as pd\n",
    "from sklearn.model_selection import train_test_split\n",
    "\n",
    "# Dataset\n",
    "data = pd.read_csv(\"https://tinyurl.com/y2qmhfsr\")\n",
    "\n",
    "L = 0.05 # pace of learning\n",
    "\n",
    "inputs = (data.iloc[:, 0:3].values / 255)\n",
    "outputs = data.iloc[:, -1].values\n",
    "\n",
    "# Training split\n",
    "X_train, X_test, Y_train, Y_test = train_test_split(inputs, outputs, test_size=1/3)\n",
    "n = X_train.shape[0]"
   ]
  },
  {
   "cell_type": "code",
   "execution_count": 3,
   "id": "d4708060-368e-4b89-aeaa-2eef33b0b5ac",
   "metadata": {},
   "outputs": [],
   "source": [
    "# Creating Neural Network with random weights and bias\n",
    "w_hidden = np.random.rand(3, 3)\n",
    "w_output = np.random.rand(1, 3)\n",
    "\n",
    "b_hidden = np.random.rand(3, 1)\n",
    "b_output = np.random.rand(1, 1)\n",
    "\n",
    "# Activation functions\n",
    "relu = lambda x: np.maximum(x, 0)\n",
    "sigmoid = lambda x: 1 / (1 + np.exp(-x))\n",
    "\n",
    "# Forward pass\n",
    "def forward_pass(X):\n",
    "    Z1 = w_hidden @ X + b_hidden\n",
    "    A1 = relu(Z1)\n",
    "    Z2 = w_output @ A1 + b_output\n",
    "    A2 = sigmoid(Z2)\n",
    "    return Z1, A1, Z2, A2"
   ]
  },
  {
   "cell_type": "code",
   "execution_count": 121,
   "id": "fda3b5c4-975a-436b-a804-64b99efbef45",
   "metadata": {},
   "outputs": [
    {
     "name": "stdout",
     "output_type": "stream",
     "text": [
      "dC_dA2 = 2*A2 - 2*Y\n",
      "dA2_dZ2 = exp(-Z2)/(1 + exp(-Z2))**2\n",
      "dZ2_dA1 = W2\n",
      "dZ2_dW2 = A1\n",
      "dZ2_dB2 = 1\n",
      "dA1_dZ1 = Z1 > 0\n",
      "dZ1_dW1 = X\n",
      "dZ1_dB1 = 1\n"
     ]
    }
   ],
   "source": [
    "# # PREPARING FOR BACKPROPAGATION\n",
    "# # Searching derivatives weight and bias for cost function (C = A2 - Y)**2\n",
    "# # where C is cost function, A2 is sigmoid output for neural network and Y is real value)\n",
    "\n",
    "# # Derivatives in Sympy\n",
    "# from sympy import *\n",
    "# W1, W2, B1, B2, A1, A2, Z1, Z2, X, Y = symbols('W1 W2 B1 B2 A1 A2 Z1 Z2 X Y')\n",
    "\n",
    "# # derivative of C (cost function) with respect to A2\n",
    "# C = (A2 - Y)**2\n",
    "# dC_dA2 = diff(C, A2)\n",
    "# print(\"dC_dA2 =\", dC_dA2)\n",
    "\n",
    "# # derivative of A2 with respect to Z2\n",
    "# sigmoid = lambda x: 1 / (1 + exp(-x))\n",
    "# _A2 = sigmoid(Z2)\n",
    "# dA2_dZ2 = diff(_A2, Z2)\n",
    "# print(\"dA2_dZ2 =\", dA2_dZ2)\n",
    "\n",
    "# # derivative of Z2 with respect to A1\n",
    "# _Z2 = A1 * W2 + B2\n",
    "# dZ2_dA1 = diff(_Z2, A1)\n",
    "# print(\"dZ2_dA1 =\", dZ2_dA1)\n",
    "\n",
    "# # derivative of Z2 with respect to W2\n",
    "# dZ2_dW2 = diff(_Z2, W2)\n",
    "# print(\"dZ2_dW2 =\", dZ2_dW2)\n",
    "\n",
    "# # derivative of Z2 with respect to B2\n",
    "# dZ2_dB2 = diff(_Z2, B2)\n",
    "# print(\"dZ2_dB2 =\", dZ2_dB2)\n",
    "\n",
    "# # derivative of A1 with respect to Z1\n",
    "# der_relu = lambda x: Max(x,0)\n",
    "# _A1 = der_relu(Z1)\n",
    "# d_relu = lambda x: x > 0\n",
    "# dA1_dZ1 = d_relu(Z1)\n",
    "# print(\"dA1_dZ1 =\", dA1_dZ1)\n",
    "\n",
    "# # derivative of Z1 with respect to W1\n",
    "# _Z1 = W1 * X + B1\n",
    "# dZ1_dW1 = diff(_Z1, W1)\n",
    "# print(\"dZ1_dW1 =\", dZ1_dW1) \n",
    "\n",
    "# # derivative of Z1 with respect to B1\n",
    "# dZ1_dB1 = diff(_Z1, B1)\n",
    "# print(\"dZ1_dB1 =\", dZ1_dB1)"
   ]
  },
  {
   "cell_type": "code",
   "execution_count": 5,
   "id": "e74945c8-b313-4530-8cdd-1fec86005777",
   "metadata": {},
   "outputs": [
    {
     "name": "stdout",
     "output_type": "stream",
     "text": [
      "ACCURACY:  0.9910913140311729\n"
     ]
    }
   ],
   "source": [
    "# Backpropagtion method for weights and biases using chain rule for find W1, B1, W2 and B2\n",
    "\n",
    "# derivatives of activation functions\n",
    "deriv_relu = lambda x: (x > 0).astype(float)\n",
    "deriv_sigmoid = lambda x: np.exp(-x) / (1 + np.exp(-x))**2\n",
    "\n",
    "def backpropagation(Z1, A1, Z2, A2, X, Y):\n",
    "    dC_dA2 = 2*A2 - 2*Y\n",
    "    dA2_dZ2 = deriv_sigmoid(Z2)\n",
    "    dZ2_dA1 = w_output\n",
    "    dZ2_dW2 = A1\n",
    "    dZ2_dB2 = 1\n",
    "    dA1_dZ1 = deriv_relu(Z1)\n",
    "    dZ1_dW1 = X\n",
    "    dZ1_dB1 = 1\n",
    "\n",
    "    dC_dW2 = dC_dA2 @ dA2_dZ2 @ dZ2_dW2.T\n",
    "    dC_dB2 = dC_dA2 @ dA2_dZ2 * dZ2_dB2\n",
    "    dC_dA1 = dC_dA2 @ dA2_dZ2 @ dZ2_dA1\n",
    "    dC_dW1 = dC_dA1 @ dA1_dZ1 @ dZ1_dW1.T\n",
    "    dC_dB1 = dC_dA1 @ dA1_dZ1 * dZ1_dB1\n",
    "\n",
    "    return dC_dW1, dC_dB1, dC_dW2, dC_dB2\n",
    "\n",
    "# Stochastic gradient optimaization\n",
    "for i in range(10000):\n",
    "    # choosing one training data \n",
    "    idx = np.random.choice(n, 1, replace=False)\n",
    "    X_sample = X_train[idx].transpose()\n",
    "    Y_sample = Y_train[idx]\n",
    "\n",
    "    # Run random data(sample) through a neural network\n",
    "    Z1, A1, Z2, A2 = forward_pass(X_sample)\n",
    "\n",
    "    # Optimazation neural network using backpropagation\n",
    "    dW1, dB1, dW2, dB2 = backpropagation(Z1, A1, Z2, A2, X_sample, Y_sample)\n",
    "\n",
    "    # Update of weights and biases\n",
    "    w_hidden -= L * dW1\n",
    "    w_output -= L * dW2\n",
    "    b_hidden -= L * dB1\n",
    "    b_output -= L * dB2\n",
    "\n",
    "# Checking the ACCURACY of neural network\n",
    "prediction = forward_pass(X_test.transpose())[3] # take only A2\n",
    "comparison = np.equal((prediction >= .5).flatten().astype(int), Y_test)\n",
    "accuracy = sum(comparison.astype(int) / X_test.shape[0])\n",
    "print(\"ACCURACY: \", accuracy)"
   ]
  },
  {
   "cell_type": "code",
   "execution_count": null,
   "id": "6297d54b-20d1-4174-9724-fe01908b5c39",
   "metadata": {},
   "outputs": [
    {
     "name": "stdin",
     "output_type": "stream",
     "text": [
      "Light or Dark font? The network will match the shade of the font color to the background color.Enter comma-separated values of R (number from 0 to 255), G (number from 0 to 255), B (number from 0 to 255) to determine the background color.:  255,192,203\n"
     ]
    },
    {
     "name": "stdout",
     "output_type": "stream",
     "text": [
      "DARK FONT\n"
     ]
    },
    {
     "name": "stdin",
     "output_type": "stream",
     "text": [
      "Light or Dark font? The network will match the shade of the font color to the background color.Enter comma-separated values of R (number from 0 to 255), G (number from 0 to 255), B (number from 0 to 255) to determine the background color.:  0,0,0\n"
     ]
    },
    {
     "name": "stdout",
     "output_type": "stream",
     "text": [
      "LIGHT FONT\n"
     ]
    },
    {
     "name": "stdin",
     "output_type": "stream",
     "text": [
      "Light or Dark font? The network will match the shade of the font color to the background color.Enter comma-separated values of R (number from 0 to 255), G (number from 0 to 255), B (number from 0 to 255) to determine the background color.:  255,140,0\n"
     ]
    },
    {
     "name": "stdout",
     "output_type": "stream",
     "text": [
      "DARK FONT\n"
     ]
    },
    {
     "name": "stdin",
     "output_type": "stream",
     "text": [
      "Light or Dark font? The network will match the shade of the font color to the background color.Enter comma-separated values of R (number from 0 to 255), G (number from 0 to 255), B (number from 0 to 255) to determine the background color.:  255,255,255\n"
     ]
    },
    {
     "name": "stdout",
     "output_type": "stream",
     "text": [
      "DARK FONT\n"
     ]
    },
    {
     "name": "stdin",
     "output_type": "stream",
     "text": [
      "Light or Dark font? The network will match the shade of the font color to the background color.Enter comma-separated values of R (number from 0 to 255), G (number from 0 to 255), B (number from 0 to 255) to determine the background color.:  0,0,139\n"
     ]
    },
    {
     "name": "stdout",
     "output_type": "stream",
     "text": [
      "LIGHT FONT\n"
     ]
    }
   ],
   "source": [
    "# Testing the font color for the indicated background color \n",
    "# (dark font for a light background, and light font for a dark background).\n",
    "\n",
    "def pred_of_probability(r, g, b):\n",
    "    X = np.array([[r, g, b]]).transpose() / 255\n",
    "    Z1, A1, Z2, A2 = forward_pass(X)\n",
    "    return A2\n",
    "\n",
    "def pred_color_of_font(r, g, b):\n",
    "    value_of_probability = pred_of_probability(r, g, b)\n",
    "    if value_of_probability > .5:\n",
    "        return \"DARK FONT\"\n",
    "    else:\n",
    "        return \"LIGHT FONT\"\n",
    "\n",
    "while True:\n",
    "    color_of_background = input(\"Light or Dark font? The network will match the shade of the font color to the background color.\\\n",
    "Enter comma-separated values of R (number from 0 to 255), G (number from 0 to 255), B (number from 0 to 255) to determine the background color.: \")\n",
    "    (r, g, b) = color_of_background.split(\",\")\n",
    "    print(pred_color_of_font(int(r), int(g), int(b)))"
   ]
  },
  {
   "cell_type": "code",
   "execution_count": null,
   "id": "680e3245-5de0-4e33-bdf6-b9faf22f3ac2",
   "metadata": {},
   "outputs": [],
   "source": []
  }
 ],
 "metadata": {
  "kernelspec": {
   "display_name": "Python 3 (ipykernel)",
   "language": "python",
   "name": "python3"
  },
  "language_info": {
   "codemirror_mode": {
    "name": "ipython",
    "version": 3
   },
   "file_extension": ".py",
   "mimetype": "text/x-python",
   "name": "python",
   "nbconvert_exporter": "python",
   "pygments_lexer": "ipython3",
   "version": "3.12.4"
  }
 },
 "nbformat": 4,
 "nbformat_minor": 5
}
