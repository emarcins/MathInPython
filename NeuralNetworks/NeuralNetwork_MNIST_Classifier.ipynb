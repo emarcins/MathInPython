{
 "cells": [
  {
   "cell_type": "code",
   "execution_count": 5,
   "id": "98947a60-d797-4763-9eb3-44eb3522ed5d",
   "metadata": {},
   "outputs": [
    {
     "name": "stdout",
     "output_type": "stream",
     "text": [
      "Training collection evaluation: 0.913106\n",
      "Test collection evaluation: 0.889946\n"
     ]
    }
   ],
   "source": [
    "import numpy as np\n",
    "import pandas as pd\n",
    "from sklearn.model_selection import train_test_split\n",
    "from sklearn.neural_network import MLPClassifier\n",
    "\n",
    "# Data\n",
    "data = pd.read_csv('https://bit.ly/3ilJc2C', compression = 'zip', delimiter=\",\")\n",
    "\n",
    "X = (data.values[:, :-1] / 255.0)\n",
    "Y = data.values[:, -1]\n",
    "\n",
    "# Train and test data split\n",
    "# Stratify - each class represented proportionally in both sets\n",
    "X_train, X_test, Y_train, Y_test = train_test_split(X, Y, test_size= 1/3, random_state=42, stratify=Y) \n",
    "\n",
    "# Creating neural network\n",
    "nn = MLPClassifier(solver='sgd',\n",
    "                   hidden_layer_sizes=(5, ),\n",
    "                   activation='logistic',\n",
    "                   max_iter=480,\n",
    "                   learning_rate_init=.1)\n",
    "\n",
    "nn.fit(X_train, Y_train) # neural network \"training\"\n",
    "\n",
    "print(\"Training collection evaluation: %f\" % nn.score(X_train, Y_train))\n",
    "print(\"Test collection evaluation: %f\" % nn.score(X_test, Y_test))"
   ]
  },
  {
   "cell_type": "code",
   "execution_count": null,
   "id": "7a830d0f-9afc-4cc8-9867-a2ae5addd1aa",
   "metadata": {},
   "outputs": [],
   "source": [
    "# Gives satisfactory projection with 100 hidden layers\n",
    "\n",
    "# import matplotlib.pyplot as plt\n",
    "# fig, axes = plt.subplots(4, 4)\n",
    "\n",
    "# vmin, vmax = nn.coefs_[0].min(), nn.coefs_[0].max()\n",
    "# for coef, ax in zip(nn.coefs_[0].T, axes.ravel()):\n",
    "#     ax.matshow(coef.reshape(28, 28), cmap=plt.cm.gray, vmin= .5 * vmin, vmax= .5 * vmax)\n",
    "#     ax.set_xticks(())\n",
    "#     ax.set_yticks(())\n",
    "\n",
    "# plt.show()"
   ]
  }
 ],
 "metadata": {
  "kernelspec": {
   "display_name": "Python 3 (ipykernel)",
   "language": "python",
   "name": "python3"
  },
  "language_info": {
   "codemirror_mode": {
    "name": "ipython",
    "version": 3
   },
   "file_extension": ".py",
   "mimetype": "text/x-python",
   "name": "python",
   "nbconvert_exporter": "python",
   "pygments_lexer": "ipython3",
   "version": "3.12.4"
  }
 },
 "nbformat": 4,
 "nbformat_minor": 5
}
