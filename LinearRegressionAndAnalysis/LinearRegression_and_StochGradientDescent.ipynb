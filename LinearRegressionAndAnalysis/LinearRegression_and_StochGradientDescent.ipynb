{
 "cells": [
  {
   "cell_type": "code",
   "execution_count": 1,
   "id": "5ff35482-85e6-4ae2-8d8b-61511c9b0a9a",
   "metadata": {},
   "outputs": [
    {
     "name": "stdout",
     "output_type": "stream",
     "text": [
      "m = [1.93939394]\n",
      "b = [4.73333333]\n"
     ]
    },
    {
     "data": {
      "image/png": "[encoded data removed]",
      "text/plain": [
       "<Figure size 640x480 with 1 Axes>"
      ]
     },
     "metadata": {},
     "output_type": "display_data"
    }
   ],
   "source": [
    "#Linear Regression with small data\n",
    "\n",
    "import pandas as pd\n",
    "import matplotlib.pyplot as plt\n",
    "from sklearn.linear_model import LinearRegression\n",
    "\n",
    "df = pd.read_csv('https://bit.ly/3goOAnt', delimiter=\",\")\n",
    "\n",
    "# Input data\n",
    "X = df.values[:, :-1]\n",
    "Y = df.values[:, -1]\n",
    "\n",
    "# Choice of Linear Regression method for my data\n",
    "fit = LinearRegression().fit(X, Y)\n",
    "\n",
    "m = fit.coef_.flatten()\n",
    "b = fit.intercept_.flatten()\n",
    "print(\"m = {0}\".format(m))\n",
    "print(\"b = {0}\".format(b))\n",
    "#m=1.93939394 , b=4.73333333\n",
    "\n",
    "plt.plot(X, Y, 'o')\n",
    "plt.plot(X, m*X+b)\n",
    "plt.show()"
   ]
  },
  {
   "cell_type": "code",
   "execution_count": 9,
   "id": "f247f484-a4e2-4bdd-84ae-82b126ec8acb",
   "metadata": {},
   "outputs": [
    {
     "name": "stdout",
     "output_type": "stream",
     "text": [
      "Sum(2*(b + m*x(i) - y(i))*x(i), (i, 0, n))\n",
      "Sum(2*b + 2*m*x(i) - 2*y(i), (i, 0, n))\n"
     ]
    }
   ],
   "source": [
    "# Finding above coefficients m and b by the Gradient Descent using Linear Regression\n",
    "\n",
    "# FIRST STEP: Finding partial derivatives for coefficcients m and b using SymPy\n",
    "from sympy import *\n",
    "m, b, i, n = symbols('m b i n')\n",
    "x, y = symbols('x y', cls=Function)\n",
    "\n",
    "# Sum of squares for Linear Regression\n",
    "sum_of_squares = Sum((m*x(i)+b - y(i)) ** 2, (i,0,n))\n",
    "\n",
    "d_m = diff(sum_of_squares, m)\n",
    "d_b = diff(sum_of_squares, b)\n",
    "\n",
    "print(d_m)\n",
    "print(d_b)"
   ]
  },
  {
   "cell_type": "code",
   "execution_count": 13,
   "id": "acda6381-ba67-4146-8ff2-89255f8e0026",
   "metadata": {},
   "outputs": [
    {
     "name": "stdout",
     "output_type": "stream",
     "text": [
      "y = 1.9393939393939548x + 4.733333333333227\n"
     ]
    }
   ],
   "source": [
    "# Finding above coefficients m and b by the Gradient Descent using Linear Regression\n",
    "\n",
    "# SECOND STEP: Using calculated partial derivatives to computed coefficcients m and b by Gradeint Descent method.\n",
    "import pandas as pd\n",
    "\n",
    "points = list(pd.read_csv(\"https://bit.ly/2KF29Bd\").itertuples())\n",
    "\n",
    "# Creating model\n",
    "m = 0.0\n",
    "b = 0.0\n",
    "\n",
    "# Pace of learning\n",
    "L = .001\n",
    "\n",
    "# Amount of iterations\n",
    "iterations = 10000\n",
    "\n",
    "# Gradient Descent\n",
    "for i in range(iterations):\n",
    "    # Coefficient m descent using previously computed derivative for m \n",
    "    D_m = sum(2 * p.x * ((m * p.x + b) - p.y) for p in points)\n",
    "    # Coefficient b descent using previously computed derivative for b\n",
    "    D_b = sum(2 * ((m * p.x + b) - p.y) for p in points)\n",
    "    # learning pace update\n",
    "    m -= L * D_m\n",
    "    b -= L * D_b\n",
    "\n",
    "print(\"y = {0}x + {1}\".format(m, b))\n"
   ]
  },
  {
   "cell_type": "code",
   "execution_count": 19,
   "id": "663cafad-7965-4d8a-b0ad-8057f77fc027",
   "metadata": {},
   "outputs": [
    {
     "name": "stdout",
     "output_type": "stream",
     "text": [
      "0 0.018000000000000002 0.003\n",
      "10000 2.324321701090577 1.8641011145813693\n",
      "20000 2.222245192479563 2.842433173642335\n",
      "30000 2.1046456433203558 3.476863641959392\n",
      "40000 2.0358200354758247 3.9136203102335876\n",
      "50000 2.010959465296555 4.196449236591988\n",
      "60000 2.007251804453916 4.404518290900192\n",
      "70000 1.9881627170214522 4.4998548692196\n",
      "80000 1.9579209879167823 4.570067487239434\n",
      "90000 1.9348467630255646 4.641718291270981\n",
      "y = 1.9237056972127016x + 4.671674927462402\n"
     ]
    }
   ],
   "source": [
    "# Finding above coefficients m and b by the STOCHASTIC Gradient Descent using Linear Regression\n",
    "\n",
    "import pandas as pd\n",
    "import numpy as np\n",
    "\n",
    "data = pd.read_csv('https://bit.ly/2KF29Bd', header=0)\n",
    "\n",
    "# Input data\n",
    "X = data.iloc[:, 0].values\n",
    "Y = data.iloc[:, 1].values\n",
    "\n",
    "n = data.shape[0]\n",
    "\n",
    "# Creating model\n",
    "m = 0.0\n",
    "b = 0.0\n",
    "\n",
    "# Pace of learning\n",
    "L = .0001\n",
    "# Amount of iterations\n",
    "epochs = 100000\n",
    "# Sample size\n",
    "sample_size = 1\n",
    "\n",
    "# STOCHASTIC GRADIENT DESCENT\n",
    "for i in range(epochs):\n",
    "    idx = np.random.choice(n, sample_size, replace=False)\n",
    "    x_real = X[idx]\n",
    "    y_real = Y[idx]\n",
    "\n",
    "    # Predicted Y value for Linear Regression\n",
    "    Y_pred = m * x_real + b\n",
    "\n",
    "    '''\n",
    "    Mean Squared Error:\n",
    "    (1/n) * Sum((y_real - y_pred)**2) \n",
    "    '''\n",
    "    # Derivative (for coefficient m) of Loss Function/Cost Function in Linear Regression(Mean Squared Error)\n",
    "    D_m = (-2 / sample_size) * sum(x_real * (y_real - Y_pred))\n",
    "    # Derivative (for coefficient b) of Loss Function/Cost Function in Linear Regression(Mean Squared Error)\n",
    "    D_b =(-2 / sample_size) * sum(y_real - Y_pred)\n",
    "    \n",
    "    # Minimizing the cost function\n",
    "    m = m - L * D_m  # Update of coefficient m\n",
    "    b = b - L * D_b  # Update of coefficient b\n",
    "\n",
    "    # Show progress\n",
    "    if i % 10000 == 0:\n",
    "        print(i, m, b)\n",
    "\n",
    "# Approximate result for coefficients “m” and “b” due to random nature of STOCHASTIC GRADIENT DESCENT\n",
    "print(\"y = {0}x + {1}\".format(m,b))"
   ]
  },
  {
   "cell_type": "code",
   "execution_count": null,
   "id": "2177f037-f2dc-4993-bd1a-39be11398239",
   "metadata": {},
   "outputs": [],
   "source": []
  }
 ],
 "metadata": {
  "kernelspec": {
   "display_name": "Python 3 (ipykernel)",
   "language": "python",
   "name": "python3"
  },
  "language_info": {
   "codemirror_mode": {
    "name": "ipython",
    "version": 3
   },
   "file_extension": ".py",
   "mimetype": "text/x-python",
   "name": "python",
   "nbconvert_exporter": "python",
   "pygments_lexer": "ipython3",
   "version": "3.12.4"
  }
 },
 "nbformat": 4,
 "nbformat_minor": 5
}
