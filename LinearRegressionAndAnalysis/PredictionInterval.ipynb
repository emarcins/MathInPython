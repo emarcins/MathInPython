{
 "cells": [
  {
   "cell_type": "code",
   "execution_count": 1,
   "id": "0016aa26-c69e-4992-b362-91514be1947c",
   "metadata": {},
   "outputs": [
    {
     "name": "stdout",
     "output_type": "stream",
     "text": [
      "m = [1.93939394]\n",
      "b = [4.73333333]\n"
     ]
    }
   ],
   "source": [
    "# Prediction interval for number of visits by an 8.5-year-old dog to the vet.\n",
    "\n",
    "import pandas as pd\n",
    "from scipy.stats import t\n",
    "from math import sqrt\n",
    "from sklearn.linear_model import LinearRegression\n",
    "\n",
    "df = pd.read_csv('https://bit.ly/2KF29Bd', delimiter=\",\")\n",
    "points = list(pd.read_csv('https://bit.ly/2KF29Bd', delimiter=\",\").itertuples())\n",
    "n = len(points)\n",
    "\n",
    "# coefficient for a line of regression\n",
    "X = df.values[:, :-1]\n",
    "Y = df.values[:, -1]\n",
    "\n",
    "train = LinearRegression().fit(X, Y)\n",
    "m = train.coef_.flatten()\n",
    "b = train.intercept_.flatten()\n",
    "\n",
    "print(\"m = {0}\".format(m))\n",
    "print(\"b = {0}\".format(b))\n",
    "# m = [1.93939394]\n",
    "# b = [4.73333333]"
   ]
  },
  {
   "cell_type": "code",
   "execution_count": 3,
   "id": "389459ee-971b-4ff6-b6c3-8a78dddeeb6e",
   "metadata": {},
   "outputs": [
    {
     "name": "stdout",
     "output_type": "stream",
     "text": [
      "1.87406793500129\n"
     ]
    }
   ],
   "source": [
    "m = 1.939\n",
    "b = 4.733\n",
    "\n",
    "# calculating the prediction interval\n",
    "x_0 = 8.5\n",
    "\n",
    "x_mean = sum(p.x for p in points) / len(points)\n",
    "\n",
    "t_value = t(n - 2).ppf(.975)\n",
    "\n",
    "standard_error = sqrt(sum((p.y - (m * p.x + b)) ** 2 for p in points) / (n - 2))\n",
    "print(standard_error)\n",
    "# The smaller the value of the standard error the better"
   ]
  },
  {
   "cell_type": "code",
   "execution_count": 5,
   "id": "a4de6056-f335-48a6-84cc-b0a979319d35",
   "metadata": {},
   "outputs": [
    {
     "name": "stdout",
     "output_type": "stream",
     "text": [
      "16.46251687560351 25.966483124396493\n"
     ]
    }
   ],
   "source": [
    "margin_of_error = t_value * standard_error * sqrt(1 + (1/n) + (n * (x_0 - x_mean)**2) / (n * sum(p.x ** 2 for p in points) - sum(p.x for p in points) ** 2))\n",
    "\n",
    "prediction_y = m * x_0 + b\n",
    "\n",
    "# prediction interval for number of visits by an 8.5-year-old dog to the vet.\n",
    "print(prediction_y - margin_of_error, prediction_y + margin_of_error)"
   ]
  },
  {
   "cell_type": "code",
   "execution_count": 7,
   "id": "2310b367-f6d4-4f4d-940d-35cd894c8a43",
   "metadata": {},
   "outputs": [],
   "source": [
    "# There is a 95% probability that an 8.5-year-old dog needs 16.46 - 25.96 visits to the vet."
   ]
  }
 ],
 "metadata": {
  "kernelspec": {
   "display_name": "Python 3 (ipykernel)",
   "language": "python",
   "name": "python3"
  },
  "language_info": {
   "codemirror_mode": {
    "name": "ipython",
    "version": 3
   },
   "file_extension": ".py",
   "mimetype": "text/x-python",
   "name": "python",
   "nbconvert_exporter": "python",
   "pygments_lexer": "ipython3",
   "version": "3.12.4"
  }
 },
 "nbformat": 4,
 "nbformat_minor": 5
}
