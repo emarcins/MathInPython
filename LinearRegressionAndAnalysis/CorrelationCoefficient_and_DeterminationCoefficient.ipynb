{
 "cells": [
  {
   "cell_type": "code",
   "execution_count": 1,
   "id": "0e02d744-3f80-49e7-90ea-32e296b6f87a",
   "metadata": {},
   "outputs": [
    {
     "data": {
      "text/html": [
       "<div>\n",
       "<style scoped>\n",
       "    .dataframe tbody tr th:only-of-type {\n",
       "        vertical-align: middle;\n",
       "    }\n",
       "\n",
       "    .dataframe tbody tr th {\n",
       "        vertical-align: top;\n",
       "    }\n",
       "\n",
       "    .dataframe thead th {\n",
       "        text-align: right;\n",
       "    }\n",
       "</style>\n",
       "<table border=\"1\" class=\"dataframe\">\n",
       "  <thead>\n",
       "    <tr style=\"text-align: right;\">\n",
       "      <th></th>\n",
       "      <th>x</th>\n",
       "      <th>y</th>\n",
       "    </tr>\n",
       "  </thead>\n",
       "  <tbody>\n",
       "    <tr>\n",
       "      <th>0</th>\n",
       "      <td>1</td>\n",
       "      <td>5</td>\n",
       "    </tr>\n",
       "    <tr>\n",
       "      <th>1</th>\n",
       "      <td>2</td>\n",
       "      <td>10</td>\n",
       "    </tr>\n",
       "    <tr>\n",
       "      <th>2</th>\n",
       "      <td>3</td>\n",
       "      <td>10</td>\n",
       "    </tr>\n",
       "    <tr>\n",
       "      <th>3</th>\n",
       "      <td>4</td>\n",
       "      <td>15</td>\n",
       "    </tr>\n",
       "    <tr>\n",
       "      <th>4</th>\n",
       "      <td>5</td>\n",
       "      <td>14</td>\n",
       "    </tr>\n",
       "  </tbody>\n",
       "</table>\n",
       "</div>"
      ],
      "text/plain": [
       "   x   y\n",
       "0  1   5\n",
       "1  2  10\n",
       "2  3  10\n",
       "3  4  15\n",
       "4  5  14"
      ]
     },
     "execution_count": 1,
     "metadata": {},
     "output_type": "execute_result"
    }
   ],
   "source": [
    "# Correlation coefficient using small data with Pandas\n",
    "\n",
    "import pandas as pd\n",
    "\n",
    "df = pd.read_csv('https://bit.ly/2KF29Bd', delimiter=\",\")\n",
    "df.head()"
   ]
  },
  {
   "cell_type": "code",
   "execution_count": 3,
   "id": "fe5ccfc3-bf4e-49b6-b8a5-b118f2974532",
   "metadata": {},
   "outputs": [
    {
     "name": "stdout",
     "output_type": "stream",
     "text": [
      "          x         y\n",
      "x  1.000000  0.957586\n",
      "y  0.957586  1.000000\n"
     ]
    }
   ],
   "source": [
    "correlation = df.corr(method='pearson')\n",
    "print(correlation)"
   ]
  },
  {
   "cell_type": "code",
   "execution_count": 5,
   "id": "ce820156-fc5a-467b-a823-86deffe0e9de",
   "metadata": {},
   "outputs": [],
   "source": [
    "# 1.0 - correlation between values occurs\n",
    "# -1.0 - correlation between values doesn't exist"
   ]
  },
  {
   "cell_type": "code",
   "execution_count": 7,
   "id": "4b74c2f9-72a4-4e47-8e3d-8d25e2bb6526",
   "metadata": {},
   "outputs": [
    {
     "name": "stdout",
     "output_type": "stream",
     "text": [
      "[Pandas(x=1, y=5), Pandas(x=2, y=10), Pandas(x=3, y=10), Pandas(x=4, y=15), Pandas(x=5, y=14), Pandas(x=6, y=15), Pandas(x=7, y=19), Pandas(x=8, y=18), Pandas(x=9, y=25), Pandas(x=10, y=23)] 10\n"
     ]
    }
   ],
   "source": [
    "# Correlation coefficient using small data with Math module\n",
    "\n",
    "from math import sqrt\n",
    "points = list(pd.read_csv('https://bit.ly/2KF29Bd').itertuples(index=False))\n",
    "n = len(points)\n",
    "print(points, n)"
   ]
  },
  {
   "cell_type": "code",
   "execution_count": 9,
   "id": "a18afe01-b850-4e6a-a73a-d11afcada298",
   "metadata": {},
   "outputs": [
    {
     "name": "stdout",
     "output_type": "stream",
     "text": [
      "0.9575860952087218\n"
     ]
    }
   ],
   "source": [
    "numerator = n * sum(p.x * p.y for p in points) - sum(p.x for p in points) * sum(p.y for p in points)\n",
    "denominator = sqrt(n*sum(p.x**2 for p in points) - sum(p.x for p in points)**2) * sqrt(n*sum(p.y**2 for p in points) - sum(p.y for p in points)**2)\n",
    "\n",
    "corr = numerator / denominator\n",
    "print(corr)"
   ]
  },
  {
   "cell_type": "code",
   "execution_count": 11,
   "id": "efbf4c5d-5c4f-4a17-93f5-0019ccf57403",
   "metadata": {},
   "outputs": [
    {
     "name": "stdout",
     "output_type": "stream",
     "text": [
      "          x         y\n",
      "x  1.000000  0.916971\n",
      "y  0.916971  1.000000\n"
     ]
    }
   ],
   "source": [
    "# Coefficient of Determination - R SQUARED \n",
    "\n",
    "# R Squared Formula\n",
    "determination_coeff = df.corr(method='pearson') ** 2\n",
    "print(determination_coeff)"
   ]
  },
  {
   "cell_type": "code",
   "execution_count": 13,
   "id": "b0cfbe10-2652-4499-b2cc-009dab756885",
   "metadata": {},
   "outputs": [],
   "source": [
    "# This means that 91.6971% of the variance of x can be explained by y and vice versa!\n",
    "# The rest (8,3029%) is noise caused by unrepresented variables.\n",
    "# This is pretty good result which means that the variances explain themselves very well."
   ]
  }
 ],
 "metadata": {
  "kernelspec": {
   "display_name": "Python 3 (ipykernel)",
   "language": "python",
   "name": "python3"
  },
  "language_info": {
   "codemirror_mode": {
    "name": "ipython",
    "version": 3
   },
   "file_extension": ".py",
   "mimetype": "text/x-python",
   "name": "python",
   "nbconvert_exporter": "python",
   "pygments_lexer": "ipython3",
   "version": "3.12.4"
  }
 },
 "nbformat": 4,
 "nbformat_minor": 5
}
