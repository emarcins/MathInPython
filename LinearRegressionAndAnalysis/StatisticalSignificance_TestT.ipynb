{
 "cells": [
  {
   "cell_type": "code",
   "execution_count": 1,
   "id": "bec726c6-2941-40d0-8c62-afa68bdb7ad1",
   "metadata": {},
   "outputs": [
    {
     "name": "stdout",
     "output_type": "stream",
     "text": [
      "Testing Value is equal to: 9.399564671312076\n",
      "Critical value is: -2.2621571628540997 , 2.262157162854099\n",
      "CORRELATION CONFIRMED, REJECT THE NULL HYPOTHESIS\n"
     ]
    }
   ],
   "source": [
    "# Test t - Statistical significance - statistical hypothesis testing using correlation , critical value of the t-Student distribution and p value\n",
    "\n",
    "from scipy.stats import t\n",
    "from math import sqrt\n",
    "\n",
    "# sample size\n",
    "n = 10\n",
    "\n",
    "# critical value\n",
    "bottom = t(n-1).ppf(.025) \n",
    "upper = t(n-1).ppf(.975) \n",
    "\n",
    "# correlation coefficient - using data from https://bit.ly/2KF29Bd\n",
    "r = 0.957586\n",
    "\n",
    "# hypothesis testing with Test t\n",
    "testingValue = r / sqrt((1-r**2) / (n-2))\n",
    "\n",
    "print(\"Testing Value is equal to: {}\".format(testingValue))\n",
    "print(\"Critical value is: {} , {}\".format(bottom, upper))\n",
    "\n",
    "if testingValue < bottom or testingValue > upper:\n",
    "    print(\"CORRELATION CONFIRMED, REJECT THE NULL HYPOTHESIS\")\n",
    "else:\n",
    "    print(\"CORRELATION NOT CONFIRMED, CAN'T REJECT THE NULL HYPOTHESIS\")"
   ]
  },
  {
   "cell_type": "code",
   "execution_count": 3,
   "id": "86199d9e-d24c-4196-ba91-49fda95909f5",
   "metadata": {},
   "outputs": [
    {
     "name": "stdout",
     "output_type": "stream",
     "text": [
      "P VALUE IS EQUAL TO: 5.9763860877914965e-06\n"
     ]
    }
   ],
   "source": [
    "# p value\n",
    "if testingValue > 0:\n",
    "    p_value = 1.0 - t(n-1).cdf(testingValue)\n",
    "else:\n",
    "    p_value = t(n-1).cdf(testingValue)\n",
    "\n",
    "# two-sided test, so multiply by 2\n",
    "p_value = p_value * 2\n",
    "print(\"P VALUE IS EQUAL TO: {}\".format(p_value))"
   ]
  },
  {
   "cell_type": "code",
   "execution_count": 5,
   "id": "d116af87-b4a5-4dda-9cd9-c72e363bb1cf",
   "metadata": {},
   "outputs": [],
   "source": [
    "# P value is ~ 0.000005976386, which it means is definitely under the critical value 0.05 so it's very high statistical significance!\n",
    "# Therefore we can say that correlation is confirmed and surely this is not a coincidence."
   ]
  }
 ],
 "metadata": {
  "kernelspec": {
   "display_name": "Python 3 (ipykernel)",
   "language": "python",
   "name": "python3"
  },
  "language_info": {
   "codemirror_mode": {
    "name": "ipython",
    "version": 3
   },
   "file_extension": ".py",
   "mimetype": "text/x-python",
   "name": "python",
   "nbconvert_exporter": "python",
   "pygments_lexer": "ipython3",
   "version": "3.12.4"
  }
 },
 "nbformat": 4,
 "nbformat_minor": 5
}
